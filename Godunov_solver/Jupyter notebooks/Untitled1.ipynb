{
 "cells": [
  {
   "cell_type": "code",
   "execution_count": 2,
   "id": "da3eb5f4",
   "metadata": {},
   "outputs": [],
   "source": [
    "import numpy as np\n",
    "import matplotlib.pyplot as plt"
   ]
  },
  {
   "cell_type": "code",
   "execution_count": 3,
   "id": "a177cf4a",
   "metadata": {},
   "outputs": [],
   "source": [
    "gamma = 5.0 / 3.0  # Показатель адиабаты\n",
    "rho = 1.0         # Плотность газа (начально равна 1)\n",
    "u_gas = 0.0      # Скорость газа (начально равна 0)\n",
    "u_piston = 0.2   # Скорость поршня\n",
    "p = 1.0 / gamma   # Давление газа\n",
    "\n",
    "# Задание параметров сетки\n",
    "x_start = 0.0     # Начальная координата\n",
    "x_end = 1.0       # Конечная координата\n",
    "N = 100           # Количество узлов сетки\n",
    "dx = (x_end - x_start) / N  # Шаг по координате\n",
    "\n",
    "# Инициализация массивов для плотности, скорости и давления\n",
    "rho_array = np.ones(N) * rho\n",
    "u_array = np.ones(N) * u_gas\n",
    "p_array = np.ones(N) * p\n",
    "\n",
    "# Итерационный шаг по времени\n",
    "dt = 0.01  # Шаг по времени\n",
    "t_end = 1.0  # Конечное время моделирования\n",
    "n_steps = int(t_end / dt)  # Количество итераций\n",
    "\n",
    "# Моделирование движения поршня\n",
    "for step in range(n_steps):\n",
    "    # Рассчет характеристик\n",
    "    c = np.sqrt(gamma * p_array / rho_array)  # Скорость звука\n",
    "    dt_c = dx / (np.max(np.abs(u_array - u_piston)) + np.max(c))  # Временной шаг, связанный со скоростью звука и разностью скорости газа и скорости поршня\n",
    "    \n",
    "    # Обновление значений плотности, скорости и давления\n",
    "    rho_array[1:] = rho_array[1:] - dt_c / dx * (rho_array[1:] * (u_array[1:] - u_array[:-1]))\n",
    "    u_array[1:] = u_array[1:] - dt_c / dx * ((p_array[1:] - p_array[:-1]) / rho_array[1:] + u_array[1:] * (u_array[1:] - u_array[:-1]))\n",
    "    p_array[1:] = p_array[1:] - dt_c / dx * (gamma * p_array[1:] * (u_array[1:] - u_array[:-1]) +\n",
    "                                              u_array[1:] * (p_array[1:] - p_array[:-1]))\n",
    "    \n",
    "    # Граничное условие для движущегося поршня\n",
    "    u_array[0] = u_piston\n"
   ]
  },
  {
   "cell_type": "code",
   "execution_count": 4,
   "id": "6c73b818",
   "metadata": {},
   "outputs": [
    {
     "data": {
      "image/png": "[encoded data removed]",
      "text/plain": [
       "<Figure size 432x288 with 1 Axes>"
      ]
     },
     "metadata": {
      "needs_background": "light"
     },
     "output_type": "display_data"
    }
   ],
   "source": [
    "\n",
    "# Визуализация результатов\n",
    "x = np.linspace(x_start, x_end, N)\n",
    "plt.plot(x, rho_array, label='Плотность')\n",
    "plt.plot(x, u_array, label='Скорость')\n",
    "plt.plot(x, p_array, label='Давление')\n",
    "plt.legend()\n",
    "plt.xlabel('Координата')\n",
    "plt.ylabel('Значение')\n",
    "plt.show()"
   ]
  },
  {
   "cell_type": "code",
   "execution_count": null,
   "id": "f262660d",
   "metadata": {},
   "outputs": [],
   "source": []
  }
 ],
 "metadata": {
  "kernelspec": {
   "display_name": "Python 3",
   "language": "python",
   "name": "python3"
  }
 },
 "nbformat": 4,
 "nbformat_minor": 5
}
